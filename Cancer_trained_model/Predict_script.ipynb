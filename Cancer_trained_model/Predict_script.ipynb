{
 "cells": [
  {
   "cell_type": "code",
   "execution_count": null,
   "id": "10ff3050",
   "metadata": {},
   "outputs": [],
   "source": [
    "import sys\n",
    "import boto3\n",
    "import tensorflow as tf\n",
    "import numpy as np\n",
    "from PIL import Image\n",
    "import io\n",
    "\n",
    "# S3 Configuration\n",
    "s3 = boto3.client('s3')\n",
    "\n",
    "# Arguments passed to the script\n",
    "input_image_s3_path = sys.argv[1]  \n",
    "result_bucket_name = sys.argv[2]  \n",
    "\n",
    "# Load trained model\n",
    "model_bucket = 'my-models-bucket'\n",
    "model_key = 'trained_model.h5'\n",
    "local_model_path = '/tmp/trained_model.h5'\n",
    "\n",
    "s3.download_file(model_bucket, model_key, local_model_path)\n",
    "model = tf.keras.models.load_model(local_model_path)\n",
    "\n",
    "# Preprocess image\n",
    "def preprocess_image(image_s3_path):\n",
    "    bucket_name, key = image_s3_path.replace(\"s3://\", \"\").split(\"/\", 1)\n",
    "    obj = s3.get_object(Bucket=bucket_name, Key=key)\n",
    "    img = Image.open(io.BytesIO(obj['Body'].read())).resize((224, 224))\n",
    "    img = np.array(img) / 255.0\n",
    "    img = np.expand_dims(img, axis=0)  # Add batch dimension\n",
    "    return img\n",
    "\n",
    "# Predict image\n",
    "def predict(image_s3_path):\n",
    "    image = preprocess_image(image_s3_path)\n",
    "    prediction = model.predict(image)\n",
    "    if prediction[0][0] > 0.5:\n",
    "        return \"Cancer Detected\"\n",
    "    else:\n",
    "        return \"No Cancer Detected\"\n",
    "\n",
    "# Save prediction to S3\n",
    "def save_prediction(result_bucket, image_s3_path, prediction):\n",
    "    result_key = f\"{image_s3_path.split('/')[-1].split('.')[0]}_result.txt\"\n",
    "    s3.put_object(Bucket=result_bucket, Key=result_key, Body=prediction)\n",
    "\n",
    "# Main execution\n",
    "if __name__ == \"__main__\":\n",
    "    prediction = predict(input_image_s3_path)\n",
    "    save_prediction(result_bucket_name, input_image_s3_path, prediction)\n"
   ]
  }
 ],
 "metadata": {
  "kernelspec": {
   "display_name": "Python 3 (ipykernel)",
   "language": "python",
   "name": "python3"
  },
  "language_info": {
   "codemirror_mode": {
    "name": "ipython",
    "version": 3
   },
   "file_extension": ".py",
   "mimetype": "text/x-python",
   "name": "python",
   "nbconvert_exporter": "python",
   "pygments_lexer": "ipython3",
   "version": "3.11.5"
  }
 },
 "nbformat": 4,
 "nbformat_minor": 5
}
